{
 "cells": [
  {
   "cell_type": "code",
   "execution_count": 1,
   "metadata": {},
   "outputs": [],
   "source": [
    "import pandas as pd"
   ]
  },
  {
   "cell_type": "code",
   "execution_count": 2,
   "metadata": {},
   "outputs": [
    {
     "data": {
      "text/html": [
       "<div>\n",
       "<style scoped>\n",
       "    .dataframe tbody tr th:only-of-type {\n",
       "        vertical-align: middle;\n",
       "    }\n",
       "\n",
       "    .dataframe tbody tr th {\n",
       "        vertical-align: top;\n",
       "    }\n",
       "\n",
       "    .dataframe thead th {\n",
       "        text-align: right;\n",
       "    }\n",
       "</style>\n",
       "<table border=\"1\" class=\"dataframe\">\n",
       "  <thead>\n",
       "    <tr style=\"text-align: right;\">\n",
       "      <th></th>\n",
       "      <th>Id</th>\n",
       "      <th>Category</th>\n",
       "      <th>Organization Name</th>\n",
       "      <th>Address</th>\n",
       "      <th>Zip Code</th>\n",
       "      <th>Days</th>\n",
       "      <th>Time: Open</th>\n",
       "      <th>Time: Close</th>\n",
       "      <th>People Served</th>\n",
       "      <th>Description</th>\n",
       "      <th>Phone Number</th>\n",
       "      <th>LatLon</th>\n",
       "    </tr>\n",
       "  </thead>\n",
       "  <tbody>\n",
       "    <tr>\n",
       "      <th>0</th>\n",
       "      <td>1</td>\n",
       "      <td>Day / Drop in Centers</td>\n",
       "      <td>A New Life Recovery &amp; Education Center</td>\n",
       "      <td>3119 Spring Garden St, Philadelphia, PA 19104</td>\n",
       "      <td>19104</td>\n",
       "      <td>Tues-Sat: 10-6pm Recovery &amp; peer support; 1-3p...</td>\n",
       "      <td>10PM</td>\n",
       "      <td>6PM</td>\n",
       "      <td>Women, Men, Families</td>\n",
       "      <td>Services provided: Recovery &amp; peer support, Sn...</td>\n",
       "      <td>267-507-3529</td>\n",
       "      <td>-75.18833430000001,39.9635841</td>\n",
       "    </tr>\n",
       "    <tr>\n",
       "      <th>1</th>\n",
       "      <td>2</td>\n",
       "      <td>Emergency Shelter</td>\n",
       "      <td>ACTS Christian Transistional Services</td>\n",
       "      <td>1428 N. 28th St, Philadelphia, PA 19121</td>\n",
       "      <td>19121</td>\n",
       "      <td>2nd, 3rd, 4th Wednesdays, 6-9 PM</td>\n",
       "      <td>6PM</td>\n",
       "      <td>9PM</td>\n",
       "      <td>Women, Women with Children</td>\n",
       "      <td>ACTS is a recovery house for women and their c...</td>\n",
       "      <td>(215) 769-9799</td>\n",
       "      <td>-75.1812997,39.97794469999999</td>\n",
       "    </tr>\n",
       "    <tr>\n",
       "      <th>2</th>\n",
       "      <td>3</td>\n",
       "      <td>Emergency Shelter</td>\n",
       "      <td>Apple Tree Family Center</td>\n",
       "      <td>1430 Cherry St, Philadelphia, PA 19102</td>\n",
       "      <td>19102</td>\n",
       "      <td>Mon-Fri 7AM - 3PM</td>\n",
       "      <td>NaN</td>\n",
       "      <td>NaN</td>\n",
       "      <td>Women, Families</td>\n",
       "      <td>Families/Single Women Seeking Emergency Housin...</td>\n",
       "      <td>215-686-7150/52</td>\n",
       "      <td>-75.1641606,39.9554759</td>\n",
       "    </tr>\n",
       "    <tr>\n",
       "      <th>3</th>\n",
       "      <td>4</td>\n",
       "      <td>Emergency Food</td>\n",
       "      <td>Grace Café at Arch Street United Methodist Church</td>\n",
       "      <td>55 N Broad St, Philadelphia, PA 19107</td>\n",
       "      <td>19107</td>\n",
       "      <td>Sunday 5:30PM - 7PM</td>\n",
       "      <td>5:30 PM</td>\n",
       "      <td>7:00 PM</td>\n",
       "      <td>Women, Men, Families</td>\n",
       "      <td>Dinner Sun: 5:30-7:00pm</td>\n",
       "      <td>215-568-6250</td>\n",
       "      <td>-75.16290719999999,39.954096</td>\n",
       "    </tr>\n",
       "    <tr>\n",
       "      <th>4</th>\n",
       "      <td>5</td>\n",
       "      <td>Permanent Housing</td>\n",
       "      <td>Bethesda Bainbridge</td>\n",
       "      <td>700 S. 15th St, Philadelphia, PA 19146</td>\n",
       "      <td>19146</td>\n",
       "      <td>NaN</td>\n",
       "      <td>NaN</td>\n",
       "      <td>NaN</td>\n",
       "      <td>Men</td>\n",
       "      <td>Permanent single room occupancy (SRO) housing ...</td>\n",
       "      <td>(215) 985-1600</td>\n",
       "      <td>-75.167497,39.9429167</td>\n",
       "    </tr>\n",
       "  </tbody>\n",
       "</table>\n",
       "</div>"
      ],
      "text/plain": [
       "   Id               Category  \\\n",
       "0   1  Day / Drop in Centers   \n",
       "1   2      Emergency Shelter   \n",
       "2   3      Emergency Shelter   \n",
       "3   4         Emergency Food   \n",
       "4   5      Permanent Housing   \n",
       "\n",
       "                                   Organization Name  \\\n",
       "0             A New Life Recovery & Education Center   \n",
       "1              ACTS Christian Transistional Services   \n",
       "2                           Apple Tree Family Center   \n",
       "3  Grace Café at Arch Street United Methodist Church   \n",
       "4                                Bethesda Bainbridge   \n",
       "\n",
       "                                         Address  Zip Code  \\\n",
       "0  3119 Spring Garden St, Philadelphia, PA 19104     19104   \n",
       "1        1428 N. 28th St, Philadelphia, PA 19121     19121   \n",
       "2         1430 Cherry St, Philadelphia, PA 19102     19102   \n",
       "3          55 N Broad St, Philadelphia, PA 19107     19107   \n",
       "4         700 S. 15th St, Philadelphia, PA 19146     19146   \n",
       "\n",
       "                                                Days Time: Open Time: Close  \\\n",
       "0  Tues-Sat: 10-6pm Recovery & peer support; 1-3p...       10PM         6PM   \n",
       "1                   2nd, 3rd, 4th Wednesdays, 6-9 PM        6PM         9PM   \n",
       "2                                  Mon-Fri 7AM - 3PM        NaN         NaN   \n",
       "3                                Sunday 5:30PM - 7PM    5:30 PM     7:00 PM   \n",
       "4                                                NaN        NaN         NaN   \n",
       "\n",
       "                People Served  \\\n",
       "0        Women, Men, Families   \n",
       "1  Women, Women with Children   \n",
       "2             Women, Families   \n",
       "3        Women, Men, Families   \n",
       "4                         Men   \n",
       "\n",
       "                                         Description     Phone Number  \\\n",
       "0  Services provided: Recovery & peer support, Sn...     267-507-3529   \n",
       "1  ACTS is a recovery house for women and their c...   (215) 769-9799   \n",
       "2  Families/Single Women Seeking Emergency Housin...  215-686-7150/52   \n",
       "3                            Dinner Sun: 5:30-7:00pm     215-568-6250   \n",
       "4  Permanent single room occupancy (SRO) housing ...   (215) 985-1600   \n",
       "\n",
       "                          LatLon  \n",
       "0  -75.18833430000001,39.9635841  \n",
       "1  -75.1812997,39.97794469999999  \n",
       "2         -75.1641606,39.9554759  \n",
       "3   -75.16290719999999,39.954096  \n",
       "4          -75.167497,39.9429167  "
      ]
     },
     "execution_count": 2,
     "metadata": {},
     "output_type": "execute_result"
    }
   ],
   "source": [
    "df = pd.read_csv('./../datasets/data.csv')\n",
    "df.head()"
   ]
  },
  {
   "cell_type": "code",
   "execution_count": 3,
   "metadata": {},
   "outputs": [
    {
     "data": {
      "text/plain": [
       "Index(['Id', 'Category', 'Organization Name', 'Address', 'Zip Code', 'Days',\n",
       "       'Time: Open', 'Time: Close', 'People Served', 'Description',\n",
       "       'Phone Number', 'LatLon'],\n",
       "      dtype='object')"
      ]
     },
     "execution_count": 3,
     "metadata": {},
     "output_type": "execute_result"
    }
   ],
   "source": [
    "df.columns"
   ]
  },
  {
   "cell_type": "code",
   "execution_count": 4,
   "metadata": {},
   "outputs": [],
   "source": [
    "df = df.drop('People Served', axis=1)"
   ]
  },
  {
   "cell_type": "code",
   "execution_count": 5,
   "metadata": {},
   "outputs": [
    {
     "data": {
      "text/html": [
       "<div>\n",
       "<style scoped>\n",
       "    .dataframe tbody tr th:only-of-type {\n",
       "        vertical-align: middle;\n",
       "    }\n",
       "\n",
       "    .dataframe tbody tr th {\n",
       "        vertical-align: top;\n",
       "    }\n",
       "\n",
       "    .dataframe thead th {\n",
       "        text-align: right;\n",
       "    }\n",
       "</style>\n",
       "<table border=\"1\" class=\"dataframe\">\n",
       "  <thead>\n",
       "    <tr style=\"text-align: right;\">\n",
       "      <th></th>\n",
       "      <th>Id</th>\n",
       "      <th>Category</th>\n",
       "      <th>Organization Name</th>\n",
       "      <th>Address</th>\n",
       "      <th>Zip Code</th>\n",
       "      <th>Days</th>\n",
       "      <th>Time: Open</th>\n",
       "      <th>Time: Close</th>\n",
       "      <th>Description</th>\n",
       "      <th>Phone Number</th>\n",
       "      <th>LatLon</th>\n",
       "    </tr>\n",
       "  </thead>\n",
       "  <tbody>\n",
       "    <tr>\n",
       "      <th>0</th>\n",
       "      <td>1</td>\n",
       "      <td>Day / Drop in Centers</td>\n",
       "      <td>A New Life Recovery &amp; Education Center</td>\n",
       "      <td>3119 Spring Garden St, Philadelphia, PA 19104</td>\n",
       "      <td>19104</td>\n",
       "      <td>Tues-Sat: 10-6pm Recovery &amp; peer support; 1-3p...</td>\n",
       "      <td>10PM</td>\n",
       "      <td>6PM</td>\n",
       "      <td>Services provided: Recovery &amp; peer support, Sn...</td>\n",
       "      <td>267-507-3529</td>\n",
       "      <td>-75.18833430000001,39.9635841</td>\n",
       "    </tr>\n",
       "    <tr>\n",
       "      <th>1</th>\n",
       "      <td>2</td>\n",
       "      <td>Emergency Shelter</td>\n",
       "      <td>ACTS Christian Transistional Services</td>\n",
       "      <td>1428 N. 28th St, Philadelphia, PA 19121</td>\n",
       "      <td>19121</td>\n",
       "      <td>2nd, 3rd, 4th Wednesdays, 6-9 PM</td>\n",
       "      <td>6PM</td>\n",
       "      <td>9PM</td>\n",
       "      <td>ACTS is a recovery house for women and their c...</td>\n",
       "      <td>(215) 769-9799</td>\n",
       "      <td>-75.1812997,39.97794469999999</td>\n",
       "    </tr>\n",
       "    <tr>\n",
       "      <th>2</th>\n",
       "      <td>3</td>\n",
       "      <td>Emergency Shelter</td>\n",
       "      <td>Apple Tree Family Center</td>\n",
       "      <td>1430 Cherry St, Philadelphia, PA 19102</td>\n",
       "      <td>19102</td>\n",
       "      <td>Mon-Fri 7AM - 3PM</td>\n",
       "      <td>NaN</td>\n",
       "      <td>NaN</td>\n",
       "      <td>Families/Single Women Seeking Emergency Housin...</td>\n",
       "      <td>215-686-7150/52</td>\n",
       "      <td>-75.1641606,39.9554759</td>\n",
       "    </tr>\n",
       "    <tr>\n",
       "      <th>3</th>\n",
       "      <td>4</td>\n",
       "      <td>Emergency Food</td>\n",
       "      <td>Grace Café at Arch Street United Methodist Church</td>\n",
       "      <td>55 N Broad St, Philadelphia, PA 19107</td>\n",
       "      <td>19107</td>\n",
       "      <td>Sunday 5:30PM - 7PM</td>\n",
       "      <td>5:30 PM</td>\n",
       "      <td>7:00 PM</td>\n",
       "      <td>Dinner Sun: 5:30-7:00pm</td>\n",
       "      <td>215-568-6250</td>\n",
       "      <td>-75.16290719999999,39.954096</td>\n",
       "    </tr>\n",
       "    <tr>\n",
       "      <th>4</th>\n",
       "      <td>5</td>\n",
       "      <td>Permanent Housing</td>\n",
       "      <td>Bethesda Bainbridge</td>\n",
       "      <td>700 S. 15th St, Philadelphia, PA 19146</td>\n",
       "      <td>19146</td>\n",
       "      <td>NaN</td>\n",
       "      <td>NaN</td>\n",
       "      <td>NaN</td>\n",
       "      <td>Permanent single room occupancy (SRO) housing ...</td>\n",
       "      <td>(215) 985-1600</td>\n",
       "      <td>-75.167497,39.9429167</td>\n",
       "    </tr>\n",
       "  </tbody>\n",
       "</table>\n",
       "</div>"
      ],
      "text/plain": [
       "   Id               Category  \\\n",
       "0   1  Day / Drop in Centers   \n",
       "1   2      Emergency Shelter   \n",
       "2   3      Emergency Shelter   \n",
       "3   4         Emergency Food   \n",
       "4   5      Permanent Housing   \n",
       "\n",
       "                                   Organization Name  \\\n",
       "0             A New Life Recovery & Education Center   \n",
       "1              ACTS Christian Transistional Services   \n",
       "2                           Apple Tree Family Center   \n",
       "3  Grace Café at Arch Street United Methodist Church   \n",
       "4                                Bethesda Bainbridge   \n",
       "\n",
       "                                         Address  Zip Code  \\\n",
       "0  3119 Spring Garden St, Philadelphia, PA 19104     19104   \n",
       "1        1428 N. 28th St, Philadelphia, PA 19121     19121   \n",
       "2         1430 Cherry St, Philadelphia, PA 19102     19102   \n",
       "3          55 N Broad St, Philadelphia, PA 19107     19107   \n",
       "4         700 S. 15th St, Philadelphia, PA 19146     19146   \n",
       "\n",
       "                                                Days Time: Open Time: Close  \\\n",
       "0  Tues-Sat: 10-6pm Recovery & peer support; 1-3p...       10PM         6PM   \n",
       "1                   2nd, 3rd, 4th Wednesdays, 6-9 PM        6PM         9PM   \n",
       "2                                  Mon-Fri 7AM - 3PM        NaN         NaN   \n",
       "3                                Sunday 5:30PM - 7PM    5:30 PM     7:00 PM   \n",
       "4                                                NaN        NaN         NaN   \n",
       "\n",
       "                                         Description     Phone Number  \\\n",
       "0  Services provided: Recovery & peer support, Sn...     267-507-3529   \n",
       "1  ACTS is a recovery house for women and their c...   (215) 769-9799   \n",
       "2  Families/Single Women Seeking Emergency Housin...  215-686-7150/52   \n",
       "3                            Dinner Sun: 5:30-7:00pm     215-568-6250   \n",
       "4  Permanent single room occupancy (SRO) housing ...   (215) 985-1600   \n",
       "\n",
       "                          LatLon  \n",
       "0  -75.18833430000001,39.9635841  \n",
       "1  -75.1812997,39.97794469999999  \n",
       "2         -75.1641606,39.9554759  \n",
       "3   -75.16290719999999,39.954096  \n",
       "4          -75.167497,39.9429167  "
      ]
     },
     "execution_count": 5,
     "metadata": {},
     "output_type": "execute_result"
    }
   ],
   "source": [
    "df.head()"
   ]
  },
  {
   "cell_type": "code",
   "execution_count": 6,
   "metadata": {},
   "outputs": [
    {
     "data": {
      "text/html": [
       "<div>\n",
       "<style scoped>\n",
       "    .dataframe tbody tr th:only-of-type {\n",
       "        vertical-align: middle;\n",
       "    }\n",
       "\n",
       "    .dataframe tbody tr th {\n",
       "        vertical-align: top;\n",
       "    }\n",
       "\n",
       "    .dataframe thead th {\n",
       "        text-align: right;\n",
       "    }\n",
       "</style>\n",
       "<table border=\"1\" class=\"dataframe\">\n",
       "  <thead>\n",
       "    <tr style=\"text-align: right;\">\n",
       "      <th></th>\n",
       "      <th>Id</th>\n",
       "      <th>Category</th>\n",
       "      <th>Organization Name</th>\n",
       "      <th>Address</th>\n",
       "      <th>Zip Code</th>\n",
       "      <th>Days</th>\n",
       "      <th>Time: Open</th>\n",
       "      <th>Time: Close</th>\n",
       "      <th>Description</th>\n",
       "      <th>Phone Number</th>\n",
       "      <th>LatLon</th>\n",
       "    </tr>\n",
       "  </thead>\n",
       "  <tbody>\n",
       "    <tr>\n",
       "      <th>2</th>\n",
       "      <td>3</td>\n",
       "      <td>Emergency Shelter</td>\n",
       "      <td>Apple Tree Family Center</td>\n",
       "      <td>1430 Cherry St, Philadelphia, PA 19102</td>\n",
       "      <td>19102</td>\n",
       "      <td>Mon-Fri 7AM - 3PM</td>\n",
       "      <td>NaN</td>\n",
       "      <td>NaN</td>\n",
       "      <td>Families/Single Women Seeking Emergency Housin...</td>\n",
       "      <td>215-686-7150/52</td>\n",
       "      <td>-75.1641606,39.9554759</td>\n",
       "    </tr>\n",
       "    <tr>\n",
       "      <th>4</th>\n",
       "      <td>5</td>\n",
       "      <td>Permanent Housing</td>\n",
       "      <td>Bethesda Bainbridge</td>\n",
       "      <td>700 S. 15th St, Philadelphia, PA 19146</td>\n",
       "      <td>19146</td>\n",
       "      <td>NaN</td>\n",
       "      <td>NaN</td>\n",
       "      <td>NaN</td>\n",
       "      <td>Permanent single room occupancy (SRO) housing ...</td>\n",
       "      <td>(215) 985-1600</td>\n",
       "      <td>-75.167497,39.9429167</td>\n",
       "    </tr>\n",
       "    <tr>\n",
       "      <th>5</th>\n",
       "      <td>6</td>\n",
       "      <td>Permanent Housing</td>\n",
       "      <td>Bethesda North Broad</td>\n",
       "      <td>722 N. Broad St, Philadelphia, PA 19130</td>\n",
       "      <td>19130</td>\n",
       "      <td>NaN</td>\n",
       "      <td>NaN</td>\n",
       "      <td>NaN</td>\n",
       "      <td>Permanent SRO housing for 49 men and women wit...</td>\n",
       "      <td>(215) 985-1600</td>\n",
       "      <td>-75.1605817,39.9678332</td>\n",
       "    </tr>\n",
       "    <tr>\n",
       "      <th>6</th>\n",
       "      <td>7</td>\n",
       "      <td>Permanent Housing</td>\n",
       "      <td>Bethesda Spruce</td>\n",
       "      <td>1110 Spruce St Philadelphia, PA 19107</td>\n",
       "      <td>19107</td>\n",
       "      <td>NaN</td>\n",
       "      <td>NaN</td>\n",
       "      <td>NaN</td>\n",
       "      <td>Permanent SRO housing for 16 women who cope wi...</td>\n",
       "      <td>(215) 985-1600</td>\n",
       "      <td>-75.16005419999999,39.94611099999999</td>\n",
       "    </tr>\n",
       "    <tr>\n",
       "      <th>8</th>\n",
       "      <td>9</td>\n",
       "      <td>Emergency Food</td>\n",
       "      <td>Breaking Bread at Broad Street Ministry</td>\n",
       "      <td>315 S. Broad Street Philadelphia, PA 19107</td>\n",
       "      <td>19107</td>\n",
       "      <td>Breakfast Mon: 7:45-8:45am Lunch Thurs &amp; Fri: ...</td>\n",
       "      <td>NaN</td>\n",
       "      <td>NaN</td>\n",
       "      <td>BSM’s Breaking Bread meals are open to anyone ...</td>\n",
       "      <td>215-735-4847</td>\n",
       "      <td>-75.1644824,39.9461067</td>\n",
       "    </tr>\n",
       "    <tr>\n",
       "      <th>...</th>\n",
       "      <td>...</td>\n",
       "      <td>...</td>\n",
       "      <td>...</td>\n",
       "      <td>...</td>\n",
       "      <td>...</td>\n",
       "      <td>...</td>\n",
       "      <td>...</td>\n",
       "      <td>...</td>\n",
       "      <td>...</td>\n",
       "      <td>...</td>\n",
       "      <td>...</td>\n",
       "    </tr>\n",
       "    <tr>\n",
       "      <th>96</th>\n",
       "      <td>97</td>\n",
       "      <td>Legal</td>\n",
       "      <td>Women Against Abuse, Inc.</td>\n",
       "      <td>100 S. Broad Street, Philadelphia, PA 19110</td>\n",
       "      <td>19110</td>\n",
       "      <td>NaN</td>\n",
       "      <td>NaN</td>\n",
       "      <td>NaN</td>\n",
       "      <td>The Legal Center offers free legal advocacy an...</td>\n",
       "      <td>215.686.7082</td>\n",
       "      <td>-75.1644611,39.9503752</td>\n",
       "    </tr>\n",
       "    <tr>\n",
       "      <th>97</th>\n",
       "      <td>98</td>\n",
       "      <td>Emergency Shelter</td>\n",
       "      <td>Women of Change</td>\n",
       "      <td>2041 Arch Street, Philadelphia, PA 19103</td>\n",
       "      <td>19103</td>\n",
       "      <td>NaN</td>\n",
       "      <td>NaN</td>\n",
       "      <td>NaN</td>\n",
       "      <td>Save haven for chronically homeless seriously ...</td>\n",
       "      <td>NaN</td>\n",
       "      <td>-75.1742359,39.956006</td>\n",
       "    </tr>\n",
       "    <tr>\n",
       "      <th>98</th>\n",
       "      <td>99</td>\n",
       "      <td>Emergency Shelter</td>\n",
       "      <td>Woodstock Family Shelter</td>\n",
       "      <td>1981 N Woodstock St, Philadelphia, PA 19121</td>\n",
       "      <td>19121</td>\n",
       "      <td>NaN</td>\n",
       "      <td>NaN</td>\n",
       "      <td>NaN</td>\n",
       "      <td>Woodstock Family Center provides emergency she...</td>\n",
       "      <td>215-235-5040</td>\n",
       "      <td>-75.167666,39.98391</td>\n",
       "    </tr>\n",
       "    <tr>\n",
       "      <th>99</th>\n",
       "      <td>100</td>\n",
       "      <td>Emergency Shelter</td>\n",
       "      <td>Young Womens Boarding Home Associations</td>\n",
       "      <td>915 Clinton Street, Philadelphia, PA 19107</td>\n",
       "      <td>19107</td>\n",
       "      <td>NaN</td>\n",
       "      <td>NaN</td>\n",
       "      <td>NaN</td>\n",
       "      <td>TO PROVIDE COMFORTABLE HOUSING AT REASONABLE R...</td>\n",
       "      <td>NaN</td>\n",
       "      <td>-75.157181,39.945295</td>\n",
       "    </tr>\n",
       "    <tr>\n",
       "      <th>100</th>\n",
       "      <td>101</td>\n",
       "      <td>Emergency Shelter</td>\n",
       "      <td>Youth Emergency Services</td>\n",
       "      <td>1526 Fairmount Avenue, Philadelphia, PA 19130</td>\n",
       "      <td>19130</td>\n",
       "      <td>NaN</td>\n",
       "      <td>NaN</td>\n",
       "      <td>NaN</td>\n",
       "      <td>Temporary Youth Shelter</td>\n",
       "      <td>215-787-0633</td>\n",
       "      <td>-75.1631142,39.9668384</td>\n",
       "    </tr>\n",
       "  </tbody>\n",
       "</table>\n",
       "<p>80 rows × 11 columns</p>\n",
       "</div>"
      ],
      "text/plain": [
       "      Id           Category                        Organization Name  \\\n",
       "2      3  Emergency Shelter                 Apple Tree Family Center   \n",
       "4      5  Permanent Housing                      Bethesda Bainbridge   \n",
       "5      6  Permanent Housing                     Bethesda North Broad   \n",
       "6      7  Permanent Housing                          Bethesda Spruce   \n",
       "8      9     Emergency Food  Breaking Bread at Broad Street Ministry   \n",
       "..   ...                ...                                      ...   \n",
       "96    97              Legal                Women Against Abuse, Inc.   \n",
       "97    98  Emergency Shelter                          Women of Change   \n",
       "98    99  Emergency Shelter                 Woodstock Family Shelter   \n",
       "99   100  Emergency Shelter  Young Womens Boarding Home Associations   \n",
       "100  101  Emergency Shelter                 Youth Emergency Services   \n",
       "\n",
       "                                           Address  Zip Code  \\\n",
       "2           1430 Cherry St, Philadelphia, PA 19102     19102   \n",
       "4           700 S. 15th St, Philadelphia, PA 19146     19146   \n",
       "5          722 N. Broad St, Philadelphia, PA 19130     19130   \n",
       "6            1110 Spruce St Philadelphia, PA 19107     19107   \n",
       "8       315 S. Broad Street Philadelphia, PA 19107     19107   \n",
       "..                                             ...       ...   \n",
       "96     100 S. Broad Street, Philadelphia, PA 19110     19110   \n",
       "97        2041 Arch Street, Philadelphia, PA 19103     19103   \n",
       "98     1981 N Woodstock St, Philadelphia, PA 19121     19121   \n",
       "99      915 Clinton Street, Philadelphia, PA 19107     19107   \n",
       "100  1526 Fairmount Avenue, Philadelphia, PA 19130     19130   \n",
       "\n",
       "                                                  Days Time: Open Time: Close  \\\n",
       "2                                    Mon-Fri 7AM - 3PM        NaN         NaN   \n",
       "4                                                  NaN        NaN         NaN   \n",
       "5                                                  NaN        NaN         NaN   \n",
       "6                                                  NaN        NaN         NaN   \n",
       "8    Breakfast Mon: 7:45-8:45am Lunch Thurs & Fri: ...        NaN         NaN   \n",
       "..                                                 ...        ...         ...   \n",
       "96                                                 NaN        NaN         NaN   \n",
       "97                                                 NaN        NaN         NaN   \n",
       "98                                                 NaN        NaN         NaN   \n",
       "99                                                 NaN        NaN         NaN   \n",
       "100                                                NaN        NaN         NaN   \n",
       "\n",
       "                                           Description     Phone Number  \\\n",
       "2    Families/Single Women Seeking Emergency Housin...  215-686-7150/52   \n",
       "4    Permanent single room occupancy (SRO) housing ...   (215) 985-1600   \n",
       "5    Permanent SRO housing for 49 men and women wit...   (215) 985-1600   \n",
       "6    Permanent SRO housing for 16 women who cope wi...   (215) 985-1600   \n",
       "8    BSM’s Breaking Bread meals are open to anyone ...     215-735-4847   \n",
       "..                                                 ...              ...   \n",
       "96   The Legal Center offers free legal advocacy an...     215.686.7082   \n",
       "97   Save haven for chronically homeless seriously ...              NaN   \n",
       "98   Woodstock Family Center provides emergency she...     215-235-5040   \n",
       "99   TO PROVIDE COMFORTABLE HOUSING AT REASONABLE R...              NaN   \n",
       "100                            Temporary Youth Shelter     215-787-0633   \n",
       "\n",
       "                                   LatLon  \n",
       "2                  -75.1641606,39.9554759  \n",
       "4                   -75.167497,39.9429167  \n",
       "5                  -75.1605817,39.9678332  \n",
       "6    -75.16005419999999,39.94611099999999  \n",
       "8                  -75.1644824,39.9461067  \n",
       "..                                    ...  \n",
       "96                 -75.1644611,39.9503752  \n",
       "97                  -75.1742359,39.956006  \n",
       "98                    -75.167666,39.98391  \n",
       "99                   -75.157181,39.945295  \n",
       "100                -75.1631142,39.9668384  \n",
       "\n",
       "[80 rows x 11 columns]"
      ]
     },
     "execution_count": 6,
     "metadata": {},
     "output_type": "execute_result"
    }
   ],
   "source": [
    "df[df.isnull().any(axis=1)]"
   ]
  },
  {
   "cell_type": "code",
   "execution_count": 7,
   "metadata": {},
   "outputs": [
    {
     "data": {
      "text/plain": [
       "80"
      ]
     },
     "execution_count": 7,
     "metadata": {},
     "output_type": "execute_result"
    }
   ],
   "source": [
    "df.isnull().any(axis=1).sum()"
   ]
  },
  {
   "cell_type": "code",
   "execution_count": 8,
   "metadata": {},
   "outputs": [
    {
     "data": {
      "text/plain": [
       "5"
      ]
     },
     "execution_count": 8,
     "metadata": {},
     "output_type": "execute_result"
    }
   ],
   "source": [
    "df.isnull().any(axis=0).sum()"
   ]
  },
  {
   "cell_type": "code",
   "execution_count": 9,
   "metadata": {},
   "outputs": [
    {
     "data": {
      "text/plain": [
       "Id                    0\n",
       "Category              0\n",
       "Organization Name     0\n",
       "Address               0\n",
       "Zip Code              0\n",
       "Days                 60\n",
       "Time: Open           67\n",
       "Time: Close          78\n",
       "Description          17\n",
       "Phone Number         37\n",
       "LatLon                0\n",
       "dtype: int64"
      ]
     },
     "execution_count": 9,
     "metadata": {},
     "output_type": "execute_result"
    }
   ],
   "source": [
    "df.isnull().sum()"
   ]
  },
  {
   "cell_type": "code",
   "execution_count": 10,
   "metadata": {},
   "outputs": [
    {
     "data": {
      "text/plain": [
       "101"
      ]
     },
     "execution_count": 10,
     "metadata": {},
     "output_type": "execute_result"
    }
   ],
   "source": [
    "len(df)"
   ]
  },
  {
   "cell_type": "code",
   "execution_count": 11,
   "metadata": {},
   "outputs": [
    {
     "data": {
      "text/plain": [
       "array(['Day / Drop in Centers', 'Emergency Shelter', 'Emergency Food',\n",
       "       'Permanent Housing', 'Legal', 'Dental', 'Medical'], dtype=object)"
      ]
     },
     "execution_count": 11,
     "metadata": {},
     "output_type": "execute_result"
    }
   ],
   "source": [
    "df['Category'].unique()"
   ]
  },
  {
   "cell_type": "code",
   "execution_count": 12,
   "metadata": {},
   "outputs": [],
   "source": [
    "df = df[df['Category'] != 'Legal']\n",
    "df = df[df['Category'] != 'Dental']\n",
    "df = df[df['Category'] != 'Medical']\n",
    "df = df[df['Category'] != 'Permanent Housing']"
   ]
  },
  {
   "cell_type": "code",
   "execution_count": 13,
   "metadata": {},
   "outputs": [
    {
     "data": {
      "text/html": [
       "<div>\n",
       "<style scoped>\n",
       "    .dataframe tbody tr th:only-of-type {\n",
       "        vertical-align: middle;\n",
       "    }\n",
       "\n",
       "    .dataframe tbody tr th {\n",
       "        vertical-align: top;\n",
       "    }\n",
       "\n",
       "    .dataframe thead th {\n",
       "        text-align: right;\n",
       "    }\n",
       "</style>\n",
       "<table border=\"1\" class=\"dataframe\">\n",
       "  <thead>\n",
       "    <tr style=\"text-align: right;\">\n",
       "      <th></th>\n",
       "      <th>Id</th>\n",
       "      <th>Category</th>\n",
       "      <th>Organization Name</th>\n",
       "      <th>Address</th>\n",
       "      <th>Zip Code</th>\n",
       "      <th>Days</th>\n",
       "      <th>Time: Open</th>\n",
       "      <th>Time: Close</th>\n",
       "      <th>Description</th>\n",
       "      <th>Phone Number</th>\n",
       "      <th>LatLon</th>\n",
       "    </tr>\n",
       "  </thead>\n",
       "  <tbody>\n",
       "    <tr>\n",
       "      <th>0</th>\n",
       "      <td>1</td>\n",
       "      <td>Day / Drop in Centers</td>\n",
       "      <td>A New Life Recovery &amp; Education Center</td>\n",
       "      <td>3119 Spring Garden St, Philadelphia, PA 19104</td>\n",
       "      <td>19104</td>\n",
       "      <td>Tues-Sat: 10-6pm Recovery &amp; peer support; 1-3p...</td>\n",
       "      <td>10PM</td>\n",
       "      <td>6PM</td>\n",
       "      <td>Services provided: Recovery &amp; peer support, Sn...</td>\n",
       "      <td>267-507-3529</td>\n",
       "      <td>-75.18833430000001,39.9635841</td>\n",
       "    </tr>\n",
       "    <tr>\n",
       "      <th>1</th>\n",
       "      <td>2</td>\n",
       "      <td>Emergency Shelter</td>\n",
       "      <td>ACTS Christian Transistional Services</td>\n",
       "      <td>1428 N. 28th St, Philadelphia, PA 19121</td>\n",
       "      <td>19121</td>\n",
       "      <td>2nd, 3rd, 4th Wednesdays, 6-9 PM</td>\n",
       "      <td>6PM</td>\n",
       "      <td>9PM</td>\n",
       "      <td>ACTS is a recovery house for women and their c...</td>\n",
       "      <td>(215) 769-9799</td>\n",
       "      <td>-75.1812997,39.97794469999999</td>\n",
       "    </tr>\n",
       "    <tr>\n",
       "      <th>2</th>\n",
       "      <td>3</td>\n",
       "      <td>Emergency Shelter</td>\n",
       "      <td>Apple Tree Family Center</td>\n",
       "      <td>1430 Cherry St, Philadelphia, PA 19102</td>\n",
       "      <td>19102</td>\n",
       "      <td>Mon-Fri 7AM - 3PM</td>\n",
       "      <td>NaN</td>\n",
       "      <td>NaN</td>\n",
       "      <td>Families/Single Women Seeking Emergency Housin...</td>\n",
       "      <td>215-686-7150/52</td>\n",
       "      <td>-75.1641606,39.9554759</td>\n",
       "    </tr>\n",
       "    <tr>\n",
       "      <th>3</th>\n",
       "      <td>4</td>\n",
       "      <td>Emergency Food</td>\n",
       "      <td>Grace Café at Arch Street United Methodist Church</td>\n",
       "      <td>55 N Broad St, Philadelphia, PA 19107</td>\n",
       "      <td>19107</td>\n",
       "      <td>Sunday 5:30PM - 7PM</td>\n",
       "      <td>5:30 PM</td>\n",
       "      <td>7:00 PM</td>\n",
       "      <td>Dinner Sun: 5:30-7:00pm</td>\n",
       "      <td>215-568-6250</td>\n",
       "      <td>-75.16290719999999,39.954096</td>\n",
       "    </tr>\n",
       "    <tr>\n",
       "      <th>7</th>\n",
       "      <td>8</td>\n",
       "      <td>Emergency Food</td>\n",
       "      <td>Bright Hope Baptist Church</td>\n",
       "      <td>1601 N 12th St, Philadelphia, PA 19122</td>\n",
       "      <td>19122</td>\n",
       "      <td>Mon - Thurs (6PM-6:45PM) &amp; Sat (11AM-12PM)</td>\n",
       "      <td>6:00 PM</td>\n",
       "      <td>6:45 PM</td>\n",
       "      <td>Monday-Thursday meals closed July and August; ...</td>\n",
       "      <td>215-232-6004</td>\n",
       "      <td>-75.1540249,39.978021</td>\n",
       "    </tr>\n",
       "  </tbody>\n",
       "</table>\n",
       "</div>"
      ],
      "text/plain": [
       "   Id               Category  \\\n",
       "0   1  Day / Drop in Centers   \n",
       "1   2      Emergency Shelter   \n",
       "2   3      Emergency Shelter   \n",
       "3   4         Emergency Food   \n",
       "7   8         Emergency Food   \n",
       "\n",
       "                                   Organization Name  \\\n",
       "0             A New Life Recovery & Education Center   \n",
       "1              ACTS Christian Transistional Services   \n",
       "2                           Apple Tree Family Center   \n",
       "3  Grace Café at Arch Street United Methodist Church   \n",
       "7                         Bright Hope Baptist Church   \n",
       "\n",
       "                                         Address  Zip Code  \\\n",
       "0  3119 Spring Garden St, Philadelphia, PA 19104     19104   \n",
       "1        1428 N. 28th St, Philadelphia, PA 19121     19121   \n",
       "2         1430 Cherry St, Philadelphia, PA 19102     19102   \n",
       "3          55 N Broad St, Philadelphia, PA 19107     19107   \n",
       "7         1601 N 12th St, Philadelphia, PA 19122     19122   \n",
       "\n",
       "                                                Days Time: Open Time: Close  \\\n",
       "0  Tues-Sat: 10-6pm Recovery & peer support; 1-3p...       10PM         6PM   \n",
       "1                   2nd, 3rd, 4th Wednesdays, 6-9 PM        6PM         9PM   \n",
       "2                                  Mon-Fri 7AM - 3PM        NaN         NaN   \n",
       "3                                Sunday 5:30PM - 7PM    5:30 PM     7:00 PM   \n",
       "7         Mon - Thurs (6PM-6:45PM) & Sat (11AM-12PM)    6:00 PM     6:45 PM   \n",
       "\n",
       "                                         Description     Phone Number  \\\n",
       "0  Services provided: Recovery & peer support, Sn...     267-507-3529   \n",
       "1  ACTS is a recovery house for women and their c...   (215) 769-9799   \n",
       "2  Families/Single Women Seeking Emergency Housin...  215-686-7150/52   \n",
       "3                            Dinner Sun: 5:30-7:00pm     215-568-6250   \n",
       "7  Monday-Thursday meals closed July and August; ...     215-232-6004   \n",
       "\n",
       "                          LatLon  \n",
       "0  -75.18833430000001,39.9635841  \n",
       "1  -75.1812997,39.97794469999999  \n",
       "2         -75.1641606,39.9554759  \n",
       "3   -75.16290719999999,39.954096  \n",
       "7          -75.1540249,39.978021  "
      ]
     },
     "execution_count": 13,
     "metadata": {},
     "output_type": "execute_result"
    }
   ],
   "source": [
    "df.head()"
   ]
  },
  {
   "cell_type": "code",
   "execution_count": 14,
   "metadata": {},
   "outputs": [
    {
     "data": {
      "text/plain": [
       "73"
      ]
     },
     "execution_count": 14,
     "metadata": {},
     "output_type": "execute_result"
    }
   ],
   "source": [
    "len(df)"
   ]
  },
  {
   "cell_type": "code",
   "execution_count": 15,
   "metadata": {},
   "outputs": [
    {
     "data": {
      "text/plain": [
       "array(['Day / Drop in Centers', 'Emergency Shelter', 'Emergency Food'],\n",
       "      dtype=object)"
      ]
     },
     "execution_count": 15,
     "metadata": {},
     "output_type": "execute_result"
    }
   ],
   "source": [
    "df['Category'].unique()"
   ]
  },
  {
   "cell_type": "code",
   "execution_count": 16,
   "metadata": {},
   "outputs": [
    {
     "data": {
      "text/plain": [
       "Id                    0\n",
       "Category              0\n",
       "Organization Name     0\n",
       "Address               0\n",
       "Zip Code              0\n",
       "Days                 41\n",
       "Time: Open           47\n",
       "Time: Close          57\n",
       "Description           8\n",
       "Phone Number         29\n",
       "LatLon                0\n",
       "dtype: int64"
      ]
     },
     "execution_count": 16,
     "metadata": {},
     "output_type": "execute_result"
    }
   ],
   "source": [
    "df.isnull().sum()"
   ]
  },
  {
   "cell_type": "code",
   "execution_count": 17,
   "metadata": {},
   "outputs": [
    {
     "data": {
      "text/plain": [
       "0      Tues-Sat: 10-6pm Recovery & peer support; 1-3p...\n",
       "1                       2nd, 3rd, 4th Wednesdays, 6-9 PM\n",
       "2                                      Mon-Fri 7AM - 3PM\n",
       "3                                    Sunday 5:30PM - 7PM\n",
       "7             Mon - Thurs (6PM-6:45PM) & Sat (11AM-12PM)\n",
       "                             ...                        \n",
       "95                                                   NaN\n",
       "97                                                   NaN\n",
       "98                                                   NaN\n",
       "99                                                   NaN\n",
       "100                                                  NaN\n",
       "Name: Days, Length: 73, dtype: object"
      ]
     },
     "execution_count": 17,
     "metadata": {},
     "output_type": "execute_result"
    }
   ],
   "source": [
    "df['Days']"
   ]
  },
  {
   "cell_type": "code",
   "execution_count": 18,
   "metadata": {},
   "outputs": [],
   "source": [
    "df['Days'] = df['Days'].fillna('Contact For Hours of Operation')"
   ]
  },
  {
   "cell_type": "code",
   "execution_count": 19,
   "metadata": {},
   "outputs": [
    {
     "data": {
      "text/plain": [
       "0      Tues-Sat: 10-6pm Recovery & peer support; 1-3p...\n",
       "1                       2nd, 3rd, 4th Wednesdays, 6-9 PM\n",
       "2                                      Mon-Fri 7AM - 3PM\n",
       "3                                    Sunday 5:30PM - 7PM\n",
       "7             Mon - Thurs (6PM-6:45PM) & Sat (11AM-12PM)\n",
       "                             ...                        \n",
       "95                        Contact For Hours of Operation\n",
       "97                        Contact For Hours of Operation\n",
       "98                        Contact For Hours of Operation\n",
       "99                        Contact For Hours of Operation\n",
       "100                       Contact For Hours of Operation\n",
       "Name: Days, Length: 73, dtype: object"
      ]
     },
     "execution_count": 19,
     "metadata": {},
     "output_type": "execute_result"
    }
   ],
   "source": [
    "df['Days']"
   ]
  },
  {
   "cell_type": "code",
   "execution_count": 20,
   "metadata": {},
   "outputs": [
    {
     "data": {
      "text/plain": [
       "Id                    0\n",
       "Category              0\n",
       "Organization Name     0\n",
       "Address               0\n",
       "Zip Code              0\n",
       "Days                  0\n",
       "Time: Open           47\n",
       "Time: Close          57\n",
       "Description           8\n",
       "Phone Number         29\n",
       "LatLon                0\n",
       "dtype: int64"
      ]
     },
     "execution_count": 20,
     "metadata": {},
     "output_type": "execute_result"
    }
   ],
   "source": [
    "df.isnull().sum()"
   ]
  },
  {
   "cell_type": "code",
   "execution_count": 21,
   "metadata": {},
   "outputs": [],
   "source": [
    "df['Days'] = df['Days'].replace('Contact For Hours of Operation', 'Contact for Hours')"
   ]
  },
  {
   "cell_type": "code",
   "execution_count": 22,
   "metadata": {},
   "outputs": [
    {
     "data": {
      "text/plain": [
       "0    Tues-Sat: 10-6pm Recovery & peer support; 1-3p...\n",
       "1                     2nd, 3rd, 4th Wednesdays, 6-9 PM\n",
       "2                                    Mon-Fri 7AM - 3PM\n",
       "3                                  Sunday 5:30PM - 7PM\n",
       "7           Mon - Thurs (6PM-6:45PM) & Sat (11AM-12PM)\n",
       "Name: Days, dtype: object"
      ]
     },
     "execution_count": 22,
     "metadata": {},
     "output_type": "execute_result"
    }
   ],
   "source": [
    "df['Days'].head()"
   ]
  },
  {
   "cell_type": "code",
   "execution_count": 23,
   "metadata": {},
   "outputs": [
    {
     "data": {
      "text/plain": [
       "array(['Tues-Sat: 10-6pm Recovery & peer support; 1-3pm Snacks Wed, Thurs, Sat: 11-3:45pm Laundry & showers Tues: 12-4pm Mobile nurse',\n",
       "       '2nd, 3rd, 4th Wednesdays, 6-9 PM', 'Mon-Fri 7AM - 3PM',\n",
       "       'Sunday 5:30PM - 7PM',\n",
       "       'Mon - Thurs (6PM-6:45PM) & Sat (11AM-12PM)',\n",
       "       'Breakfast Mon: 7:45-8:45am Lunch Thurs & Fri: 11:30-12:15pm, Sat: 12- 12:50pm Dinner Tues & Wed: 4-5:15pm Mail (pick up & sign up) Mon: 7:45-8:45am, Tues & Wed 3-5:30pm, Thurs & Fri: 11:30-1:30pm',\n",
       "       'Mon to Sun, 6:30 AM to 12:00 AM\\xa0Open 24 hours for emergencies on a case by case basis.',\n",
       "       'Mon: 6:00PM, Wed: 6:00PM, Fri: 6:00PM, Sat: 5:00PM, Sun: 10:00AM',\n",
       "       'Sat: 5:00PM', 'Sun: 10:00AM, Mon: 6:00PM, Fri: 6:00PM',\n",
       "       '24 hours', 'Contact for Hours', 'Mon', 'Sun',\n",
       "       '7 days a week, 24 hours a day',\n",
       "       'Lunch Mon-Fri: Women with children 11am; Single women 12-1:15pm',\n",
       "       'Tuesday', 'Tuesday, Thursday, Saturday', 'Sun-Sat',\n",
       "       'Mon, Tues, Thurs, Fri: 12-8pm, Wed: 9-5pm, Sat: 9-1pm',\n",
       "       'Breakfast Tues, Wed, Thurs: 10-11am Lunch Fri, Sat, Sun: 11:30-1pm Dinner Mon, Tues, Wed, Thurs: 4:30-6pm Clothing, phone usage, resource referral',\n",
       "       'Lunch 12PM-1PM, Dinner 4PM', 'Tues-Fri 9:30AM - 11AM',\n",
       "       'Sat 7AM - 9AM', 'Sat: 8AM-10AM', 'Arrive before 6PM Sun-Sat',\n",
       "       'Mon-Fri', 'Office: Mon-Fri: 9-5pm',\n",
       "       'Tues & Fri: 12pm Lunch; 12-4pm', 'Mon-Sat 9:45 AM – 4:30 PM'],\n",
       "      dtype=object)"
      ]
     },
     "execution_count": 23,
     "metadata": {},
     "output_type": "execute_result"
    }
   ],
   "source": [
    "df['Days'].unique()"
   ]
  },
  {
   "cell_type": "code",
   "execution_count": 24,
   "metadata": {},
   "outputs": [
    {
     "data": {
      "text/plain": [
       "0      Tues-Sat: 10-6pm Recovery & peer support; 1-3p...\n",
       "1                       2nd, 3rd, 4th Wednesdays, 6-9 PM\n",
       "2                                      Mon-Fri 7AM - 3PM\n",
       "3                                    Sunday 5:30PM - 7PM\n",
       "7             Mon - Thurs (6PM-6:45PM) & Sat (11AM-12PM)\n",
       "                             ...                        \n",
       "95                                     Contact for Hours\n",
       "97                                     Contact for Hours\n",
       "98                                     Contact for Hours\n",
       "99                                     Contact for Hours\n",
       "100                                    Contact for Hours\n",
       "Name: Days, Length: 73, dtype: object"
      ]
     },
     "execution_count": 24,
     "metadata": {},
     "output_type": "execute_result"
    }
   ],
   "source": [
    "df['Days']"
   ]
  },
  {
   "cell_type": "code",
   "execution_count": 25,
   "metadata": {},
   "outputs": [],
   "source": [
    "df = df.dropna(subset=['Phone Number'])"
   ]
  },
  {
   "cell_type": "code",
   "execution_count": 26,
   "metadata": {},
   "outputs": [
    {
     "data": {
      "text/plain": [
       "Id                    0\n",
       "Category              0\n",
       "Organization Name     0\n",
       "Address               0\n",
       "Zip Code              0\n",
       "Days                  0\n",
       "Time: Open           22\n",
       "Time: Close          28\n",
       "Description           3\n",
       "Phone Number          0\n",
       "LatLon                0\n",
       "dtype: int64"
      ]
     },
     "execution_count": 26,
     "metadata": {},
     "output_type": "execute_result"
    }
   ],
   "source": [
    "df.isnull().sum()"
   ]
  },
  {
   "cell_type": "code",
   "execution_count": 27,
   "metadata": {},
   "outputs": [],
   "source": [
    "df['Description'] = df['Description'].fillna('No Description')"
   ]
  },
  {
   "cell_type": "code",
   "execution_count": 28,
   "metadata": {},
   "outputs": [
    {
     "data": {
      "text/plain": [
       "0"
      ]
     },
     "execution_count": 28,
     "metadata": {},
     "output_type": "execute_result"
    }
   ],
   "source": [
    "df['Description'].isnull().sum()"
   ]
  },
  {
   "cell_type": "code",
   "execution_count": 29,
   "metadata": {},
   "outputs": [
    {
     "data": {
      "text/plain": [
       "Id                    0\n",
       "Category              0\n",
       "Organization Name     0\n",
       "Address               0\n",
       "Zip Code              0\n",
       "Days                  0\n",
       "Time: Open           22\n",
       "Time: Close          28\n",
       "Description           0\n",
       "Phone Number          0\n",
       "LatLon                0\n",
       "dtype: int64"
      ]
     },
     "execution_count": 29,
     "metadata": {},
     "output_type": "execute_result"
    }
   ],
   "source": [
    "df.isnull().sum()"
   ]
  },
  {
   "cell_type": "code",
   "execution_count": 30,
   "metadata": {},
   "outputs": [],
   "source": [
    "df['Time: Open'] = df['Time: Open'].fillna('Contact for Hours')\n",
    "df['Time: Close'] = df['Time: Close'].fillna('Contact for Hours')"
   ]
  },
  {
   "cell_type": "code",
   "execution_count": 31,
   "metadata": {},
   "outputs": [
    {
     "data": {
      "text/plain": [
       "0"
      ]
     },
     "execution_count": 31,
     "metadata": {},
     "output_type": "execute_result"
    }
   ],
   "source": [
    "df['Time: Open'].isnull().sum()"
   ]
  },
  {
   "cell_type": "code",
   "execution_count": 32,
   "metadata": {},
   "outputs": [
    {
     "data": {
      "text/plain": [
       "Id                   0\n",
       "Category             0\n",
       "Organization Name    0\n",
       "Address              0\n",
       "Zip Code             0\n",
       "Days                 0\n",
       "Time: Open           0\n",
       "Time: Close          0\n",
       "Description          0\n",
       "Phone Number         0\n",
       "LatLon               0\n",
       "dtype: int64"
      ]
     },
     "execution_count": 32,
     "metadata": {},
     "output_type": "execute_result"
    }
   ],
   "source": [
    "df.isnull().sum()"
   ]
  },
  {
   "cell_type": "code",
   "execution_count": 33,
   "metadata": {},
   "outputs": [
    {
     "data": {
      "text/html": [
       "<div>\n",
       "<style scoped>\n",
       "    .dataframe tbody tr th:only-of-type {\n",
       "        vertical-align: middle;\n",
       "    }\n",
       "\n",
       "    .dataframe tbody tr th {\n",
       "        vertical-align: top;\n",
       "    }\n",
       "\n",
       "    .dataframe thead th {\n",
       "        text-align: right;\n",
       "    }\n",
       "</style>\n",
       "<table border=\"1\" class=\"dataframe\">\n",
       "  <thead>\n",
       "    <tr style=\"text-align: right;\">\n",
       "      <th></th>\n",
       "      <th>Id</th>\n",
       "      <th>Category</th>\n",
       "      <th>Organization Name</th>\n",
       "      <th>Address</th>\n",
       "      <th>Zip Code</th>\n",
       "      <th>Days</th>\n",
       "      <th>Time: Open</th>\n",
       "      <th>Time: Close</th>\n",
       "      <th>Description</th>\n",
       "      <th>Phone Number</th>\n",
       "      <th>LatLon</th>\n",
       "    </tr>\n",
       "  </thead>\n",
       "  <tbody>\n",
       "    <tr>\n",
       "      <th>0</th>\n",
       "      <td>1</td>\n",
       "      <td>Day / Drop in Centers</td>\n",
       "      <td>A New Life Recovery &amp; Education Center</td>\n",
       "      <td>3119 Spring Garden St, Philadelphia, PA 19104</td>\n",
       "      <td>19104</td>\n",
       "      <td>Tues-Sat: 10-6pm Recovery &amp; peer support; 1-3p...</td>\n",
       "      <td>10PM</td>\n",
       "      <td>6PM</td>\n",
       "      <td>Services provided: Recovery &amp; peer support, Sn...</td>\n",
       "      <td>267-507-3529</td>\n",
       "      <td>-75.18833430000001,39.9635841</td>\n",
       "    </tr>\n",
       "    <tr>\n",
       "      <th>1</th>\n",
       "      <td>2</td>\n",
       "      <td>Emergency Shelter</td>\n",
       "      <td>ACTS Christian Transistional Services</td>\n",
       "      <td>1428 N. 28th St, Philadelphia, PA 19121</td>\n",
       "      <td>19121</td>\n",
       "      <td>2nd, 3rd, 4th Wednesdays, 6-9 PM</td>\n",
       "      <td>6PM</td>\n",
       "      <td>9PM</td>\n",
       "      <td>ACTS is a recovery house for women and their c...</td>\n",
       "      <td>(215) 769-9799</td>\n",
       "      <td>-75.1812997,39.97794469999999</td>\n",
       "    </tr>\n",
       "    <tr>\n",
       "      <th>2</th>\n",
       "      <td>3</td>\n",
       "      <td>Emergency Shelter</td>\n",
       "      <td>Apple Tree Family Center</td>\n",
       "      <td>1430 Cherry St, Philadelphia, PA 19102</td>\n",
       "      <td>19102</td>\n",
       "      <td>Mon-Fri 7AM - 3PM</td>\n",
       "      <td>Contact for Hours</td>\n",
       "      <td>Contact for Hours</td>\n",
       "      <td>Families/Single Women Seeking Emergency Housin...</td>\n",
       "      <td>215-686-7150/52</td>\n",
       "      <td>-75.1641606,39.9554759</td>\n",
       "    </tr>\n",
       "    <tr>\n",
       "      <th>3</th>\n",
       "      <td>4</td>\n",
       "      <td>Emergency Food</td>\n",
       "      <td>Grace Café at Arch Street United Methodist Church</td>\n",
       "      <td>55 N Broad St, Philadelphia, PA 19107</td>\n",
       "      <td>19107</td>\n",
       "      <td>Sunday 5:30PM - 7PM</td>\n",
       "      <td>5:30 PM</td>\n",
       "      <td>7:00 PM</td>\n",
       "      <td>Dinner Sun: 5:30-7:00pm</td>\n",
       "      <td>215-568-6250</td>\n",
       "      <td>-75.16290719999999,39.954096</td>\n",
       "    </tr>\n",
       "    <tr>\n",
       "      <th>7</th>\n",
       "      <td>8</td>\n",
       "      <td>Emergency Food</td>\n",
       "      <td>Bright Hope Baptist Church</td>\n",
       "      <td>1601 N 12th St, Philadelphia, PA 19122</td>\n",
       "      <td>19122</td>\n",
       "      <td>Mon - Thurs (6PM-6:45PM) &amp; Sat (11AM-12PM)</td>\n",
       "      <td>6:00 PM</td>\n",
       "      <td>6:45 PM</td>\n",
       "      <td>Monday-Thursday meals closed July and August; ...</td>\n",
       "      <td>215-232-6004</td>\n",
       "      <td>-75.1540249,39.978021</td>\n",
       "    </tr>\n",
       "  </tbody>\n",
       "</table>\n",
       "</div>"
      ],
      "text/plain": [
       "   Id               Category  \\\n",
       "0   1  Day / Drop in Centers   \n",
       "1   2      Emergency Shelter   \n",
       "2   3      Emergency Shelter   \n",
       "3   4         Emergency Food   \n",
       "7   8         Emergency Food   \n",
       "\n",
       "                                   Organization Name  \\\n",
       "0             A New Life Recovery & Education Center   \n",
       "1              ACTS Christian Transistional Services   \n",
       "2                           Apple Tree Family Center   \n",
       "3  Grace Café at Arch Street United Methodist Church   \n",
       "7                         Bright Hope Baptist Church   \n",
       "\n",
       "                                         Address  Zip Code  \\\n",
       "0  3119 Spring Garden St, Philadelphia, PA 19104     19104   \n",
       "1        1428 N. 28th St, Philadelphia, PA 19121     19121   \n",
       "2         1430 Cherry St, Philadelphia, PA 19102     19102   \n",
       "3          55 N Broad St, Philadelphia, PA 19107     19107   \n",
       "7         1601 N 12th St, Philadelphia, PA 19122     19122   \n",
       "\n",
       "                                                Days         Time: Open  \\\n",
       "0  Tues-Sat: 10-6pm Recovery & peer support; 1-3p...               10PM   \n",
       "1                   2nd, 3rd, 4th Wednesdays, 6-9 PM                6PM   \n",
       "2                                  Mon-Fri 7AM - 3PM  Contact for Hours   \n",
       "3                                Sunday 5:30PM - 7PM            5:30 PM   \n",
       "7         Mon - Thurs (6PM-6:45PM) & Sat (11AM-12PM)            6:00 PM   \n",
       "\n",
       "         Time: Close                                        Description  \\\n",
       "0                6PM  Services provided: Recovery & peer support, Sn...   \n",
       "1                9PM  ACTS is a recovery house for women and their c...   \n",
       "2  Contact for Hours  Families/Single Women Seeking Emergency Housin...   \n",
       "3            7:00 PM                            Dinner Sun: 5:30-7:00pm   \n",
       "7            6:45 PM  Monday-Thursday meals closed July and August; ...   \n",
       "\n",
       "      Phone Number                         LatLon  \n",
       "0     267-507-3529  -75.18833430000001,39.9635841  \n",
       "1   (215) 769-9799  -75.1812997,39.97794469999999  \n",
       "2  215-686-7150/52         -75.1641606,39.9554759  \n",
       "3     215-568-6250   -75.16290719999999,39.954096  \n",
       "7     215-232-6004          -75.1540249,39.978021  "
      ]
     },
     "execution_count": 33,
     "metadata": {},
     "output_type": "execute_result"
    }
   ],
   "source": [
    "df.head()"
   ]
  },
  {
   "cell_type": "code",
   "execution_count": 34,
   "metadata": {},
   "outputs": [],
   "source": [
    "# save df as csv\n",
    "df.to_csv('./../datasets/cleaned_data.csv', index=False)"
   ]
  }
 ],
 "metadata": {
  "kernelspec": {
   "display_name": "Python 3.9 (tensorflow)",
   "language": "python",
   "name": "tensorflow"
  },
  "language_info": {
   "codemirror_mode": {
    "name": "ipython",
    "version": 3
   },
   "file_extension": ".py",
   "mimetype": "text/x-python",
   "name": "python",
   "nbconvert_exporter": "python",
   "pygments_lexer": "ipython3",
   "version": "3.9.13"
  },
  "orig_nbformat": 4
 },
 "nbformat": 4,
 "nbformat_minor": 2
}
